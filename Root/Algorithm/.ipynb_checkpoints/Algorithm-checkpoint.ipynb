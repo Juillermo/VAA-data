{
 "cells": [
  {
   "cell_type": "code",
   "execution_count": 1,
   "metadata": {
    "collapsed": false
   },
   "outputs": [],
   "source": [
    "#%matplotlib inline\n",
    "import numpy as np\n",
    "import pandas as pd\n",
    "#import matplotlib.pyplot as plt\n",
    "\n",
    "from sklearn.preprocessing import OneHotEncoder\n",
    "\n",
    "import theano\n",
    "import theano.tensor as T"
   ]
  },
  {
   "cell_type": "markdown",
   "metadata": {},
   "source": [
    "### Reading inputs"
   ]
  },
  {
   "cell_type": "code",
   "execution_count": 63,
   "metadata": {
    "collapsed": false
   },
   "outputs": [
    {
     "name": "stdout",
     "output_type": "stream",
     "text": [
      "Users input size (M x N):  (99821, 30)\n",
      "One-hot (M x N x 6): (99821, 30, 6) \n",
      "\n",
      "Voting intention input size (M): 99821\n",
      "One-hot (M x K) (99821, 10) \n",
      "\n",
      "Parties input size (K x N):  (10, 30)\n",
      "One-hot (K x N x 6): (10, 30, 6)\n"
     ]
    }
   ],
   "source": [
    "answer_cols = [\"Ans_\"+str(i+1) for i in range(30)]\n",
    "\n",
    "## Reading user info\n",
    "U = pd.read_csv('input_to_algorithm.csv', index_col=0, low_memory=False)\n",
    "print \"Users input size (M x N): \", U.shape\n",
    "\n",
    "ans_enc = OneHotEncoder(sparse=False)\n",
    "U = ans_enc.fit_transform(U)\n",
    "U = U.reshape(len(U), len(answer_cols), 6)\n",
    "print \"One-hot (M x N x 6):\", U.shape, \"\\n\"\n",
    "\n",
    "## Reading voting intention\n",
    "V = pd.read_csv('voting_intention.csv', header=None,index_col=0)\n",
    "print \"Voting intention input size (M):\", len(V)\n",
    "\n",
    "party_enc = OneHotEncoder(sparse=False)\n",
    "V = party_enc.fit_transform(V)\n",
    "print \"One-hot (M x K)\", V.shape, \"\\n\"\n",
    "\n",
    "## Reading party info\n",
    "P = pd.read_csv('es_party_XYZ.csv', delim_whitespace=True)\n",
    "P = P[answer_cols]\n",
    "P[P==99] = 6\n",
    "print \"Parties input size (K x N): \", P.shape\n",
    "\n",
    "P = ans_enc.transform(P)\n",
    "P = P.reshape(len(P), len(answer_cols), 6)\n",
    "print \"One-hot (K x N x 6):\", P.shape"
   ]
  },
  {
   "cell_type": "code",
   "execution_count": null,
   "metadata": {
    "collapsed": true
   },
   "outputs": [],
   "source": [
    "rng = np.random\n",
    "\n",
    "# generate a dataset: D = (input_values, target_class)\n",
    "D = (rng.randn(N, feats), rng.randint(size=N, low=0, high=2))\n",
    "training_steps = 10000\n",
    "\n",
    "# Declare Theano symbolic variables\n",
    "x = T.dmatrix(\"x\")\n",
    "y = T.dvector(\"y\")\n",
    "\n",
    "# initialize the weight vector w randomly\n",
    "#\n",
    "# this and the following bias variable b\n",
    "# are shared so they keep their values\n",
    "# between training iterations (updates)\n",
    "w = theano.shared(rng.randn(feats), name=\"w\")\n",
    "\n",
    "# initialize the bias term\n",
    "b = theano.shared(0., name=\"b\")\n",
    "\n",
    "print(\"Initial model:\")\n",
    "print(w.get_value())\n",
    "print(b.get_value())\n",
    "\n",
    "# Construct Theano expression graph\n",
    "p_1 = 1 / (1 + T.exp(-T.dot(x, w) - b))   # Probability that target = 1\n",
    "prediction = p_1 > 0.5                    # The prediction thresholded\n",
    "xent = -y * T.log(p_1) - (1-y) * T.log(1-p_1) # Cross-entropy loss function\n",
    "cost = xent.mean() + 0.01 * (w ** 2).sum()# The cost to minimize\n",
    "gw, gb = T.grad(cost, [w, b])             # Compute the gradient of the cost\n",
    "                                          # w.r.t weight vector w and\n",
    "                                          # bias term b\n",
    "                                          # (we shall return to this in a\n",
    "                                          # following section of this tutorial)\n",
    "\n",
    "# Compile\n",
    "train = theano.function(\n",
    "          inputs=[x,y],\n",
    "          outputs=[prediction, xent],\n",
    "          updates=((w, w - 0.1 * gw), (b, b - 0.1 * gb)))\n",
    "predict = theano.function(inputs=[x], outputs=prediction)\n",
    "\n",
    "# Train\n",
    "for i in range(training_steps):\n",
    "    pred, err = train(D[0], D[1])\n",
    "\n",
    "print(\"Final model:\")\n",
    "print(w.get_value())\n",
    "print(b.get_value())\n",
    "print(\"target values for D:\")\n",
    "print(D[1])\n",
    "print(\"prediction on D:\")\n",
    "print(predict(D[0]))"
   ]
  }
 ],
 "metadata": {
  "kernelspec": {
   "display_name": "Python 2",
   "language": "python",
   "name": "python2"
  },
  "language_info": {
   "codemirror_mode": {
    "name": "ipython",
    "version": 2
   },
   "file_extension": ".py",
   "mimetype": "text/x-python",
   "name": "python",
   "nbconvert_exporter": "python",
   "pygments_lexer": "ipython2",
   "version": "2.7.13"
  }
 },
 "nbformat": 4,
 "nbformat_minor": 2
}
