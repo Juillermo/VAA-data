{
 "cells": [
  {
   "cell_type": "code",
   "execution_count": null,
   "metadata": {
    "collapsed": false
   },
   "outputs": [],
   "source": [
    "%matplotlib inline\n",
    "import numpy as np\n",
    "import pandas as pd\n",
    "import matplotlib.pyplot as plt\n",
    "\n",
    "from sklearn.preprocessing import OneHotEncoder\n",
    "\n",
    "import theano\n",
    "import theano.tensor as T"
   ]
  },
  {
   "cell_type": "markdown",
   "metadata": {},
   "source": [
    "### Reading inputs"
   ]
  },
  {
   "cell_type": "code",
   "execution_count": 3,
   "metadata": {
    "collapsed": false
   },
   "outputs": [
    {
     "name": "stderr",
     "output_type": "stream",
     "text": [
      "<ipython-input-3-20207c13071a>:8: SyntaxWarning: assertion is always true, perhaps remove parentheses?\n",
      "  assert(U.shape[1],N)\n"
     ]
    },
    {
     "name": "stdout",
     "output_type": "stream",
     "text": [
      "Users input size (M x N):  (99821, 30)\n",
      "One-hot (M x N x L): (99821, 30, 6) \n",
      "\n",
      "Parties input size (K x N):  (10, 30)\n",
      "One-hot (K x N x L): (10, 30, 6)\n",
      "Voting intention input size (M): 99821\n",
      "One-hot (M x K) (99821, 10) \n",
      "\n"
     ]
    },
    {
     "name": "stderr",
     "output_type": "stream",
     "text": [
      "<ipython-input-3-20207c13071a>:29: SyntaxWarning: assertion is always true, perhaps remove parentheses?\n",
      "  assert(len(V), M)\n",
      "<ipython-input-3-20207c13071a>:34: SyntaxWarning: assertion is always true, perhaps remove parentheses?\n",
      "  assert(K, V.shape[1])\n"
     ]
    }
   ],
   "source": [
    "answer_cols = [\"Ans_\"+str(i+1) for i in range(30)]\n",
    "N = len(answer_cols)   # Number of questions\n",
    "L = 6                # Number of possible answers\n",
    "\n",
    "## Reading user info\n",
    "U = pd.read_csv('input_to_algorithm.csv', index_col=0, low_memory=False)\n",
    "M = len(U) # Number of users\n",
    "assert(U.shape[1],N)\n",
    "print \"Users input size (M x N): \", U.shape\n",
    "\n",
    "ans_enc = OneHotEncoder(sparse=False)\n",
    "U = ans_enc.fit_transform(U)\n",
    "U = U.reshape(M, N, L)\n",
    "print \"One-hot (M x N x L):\", U.shape, \"\\n\"\n",
    "\n",
    "## Reading party info\n",
    "P = pd.read_csv('es_party_XYZ.csv', delim_whitespace=True)\n",
    "P = P[answer_cols]\n",
    "P[P==99] = 6\n",
    "K = len(P) # Number of parties\n",
    "print \"Parties input size (K x N): \", P.shape\n",
    "\n",
    "P = ans_enc.transform(P)\n",
    "P = P.reshape(len(P), len(answer_cols), L)\n",
    "print \"One-hot (K x N x L):\", P.shape\n",
    "\n",
    "## Reading voting intention\n",
    "V = pd.read_csv('voting_intention.csv', header=None,index_col=0)\n",
    "assert(len(V), M)\n",
    "print \"Voting intention input size (M):\", len(V)\n",
    "\n",
    "party_enc = OneHotEncoder(sparse=False)\n",
    "V = party_enc.fit_transform(V)\n",
    "assert(K, V.shape[1])\n",
    "print \"One-hot (M x K)\", V.shape, \"\\n\""
   ]
  },
  {
   "cell_type": "markdown",
   "metadata": {},
   "source": [
    "### Building model"
   ]
  },
  {
   "cell_type": "code",
   "execution_count": 11,
   "metadata": {
    "collapsed": false
   },
   "outputs": [],
   "source": [
    "# Symbolic variables\n",
    "u = T.dtensor3(\"u\")\n",
    "p = T.dtensor3(\"p\")\n",
    "v = T.dmatrix(\"v\")\n",
    "\n",
    "rng = np.random\n",
    "\n",
    "# Define learnable parameters (with random initialization)\n",
    "d = theano.shared(rng.randn(N, 13), name=\"D\") # 13 independent weights in the bi-symmetrical distance matrix\n",
    "\n",
    "D = []\n",
    "for j in range(N):\n",
    "    D_w = d[j]\n",
    "    D0 = T.stack([D_w[0], D_w[1], D_w[3], D_w[6], D_w[8], D_w[9]])\n",
    "    D1 = T.stack([D_w[1], D_w[2], D_w[4], D_w[7], D_w[6], D_w[10]])\n",
    "    D2 = T.stack([D_w[3], D_w[4], D_w[5], D_w[4], D_w[3], D_w[11]])\n",
    "    D3 = T.stack([D_w[6], D_w[7], D_w[4], D_w[2], D_w[1], D_w[10]])\n",
    "    D4 = T.stack([D_w[8], D_w[6], D_w[3], D_w[1], D_w[0], D_w[9]])\n",
    "    D5 = T.stack([D_w[9], D_w[10], D_w[11], D_w[10], D_w[9], D_w[12]])\n",
    "    D.append(T.stack([D0,D1,D2,D3,D4,D5]))\n",
    "\n",
    "D = T.stack(D)                               \n",
    "w = theano.shared(rng.randn(N), name=\"w\")\n",
    "\n",
    "# Compute distance scores\n",
    "s = T.batched_dot(u.dimshuffle((1,0,2)), D)#.swapaxes(1,0))#D.dimshuffle((1,0,2)))\n",
    "s = T.batched_dot(s, p.dimshuffle((1,2,0)))\n",
    "s = T.nnet.sigmoid(s)\n",
    "\n",
    "# Aggregate issues with weights\n",
    "#w = w.dimshuffle((0,'x','x'))\n",
    "s = T.tensordot(s, abs(w), axes=[[0],[0]])\n",
    "s = T.tanh(s)\n",
    "#s = T.nnet.softmax(s) # Let's see how it goes without softmax. It should not penalise having other parties with high scores\n"
   ]
  },
  {
   "cell_type": "markdown",
   "metadata": {},
   "source": [
    "### Training model"
   ]
  },
  {
   "cell_type": "code",
   "execution_count": 32,
   "metadata": {
    "collapsed": false
   },
   "outputs": [
    {
     "ename": "ValueError",
     "evalue": "setting an array element with a sequence.",
     "output_type": "error",
     "traceback": [
      "\u001b[0;31m---------------------------------------------------------------------------\u001b[0m",
      "\u001b[0;31mValueError\u001b[0m                                Traceback (most recent call last)",
      "\u001b[0;32m<ipython-input-32-d3c4eb7e3c7d>\u001b[0m in \u001b[0;36m<module>\u001b[0;34m()\u001b[0m\n\u001b[1;32m     17\u001b[0m \u001b[0merr_vec\u001b[0m \u001b[0;34m=\u001b[0m \u001b[0mnp\u001b[0m\u001b[0;34m.\u001b[0m\u001b[0mzeros\u001b[0m\u001b[0;34m(\u001b[0m\u001b[0mtraining_steps\u001b[0m\u001b[0;34m)\u001b[0m\u001b[0;34m\u001b[0m\u001b[0m\n\u001b[1;32m     18\u001b[0m \u001b[0;32mfor\u001b[0m \u001b[0mi\u001b[0m \u001b[0;32min\u001b[0m \u001b[0mrange\u001b[0m\u001b[0;34m(\u001b[0m\u001b[0mtraining_steps\u001b[0m\u001b[0;34m)\u001b[0m\u001b[0;34m:\u001b[0m\u001b[0;34m\u001b[0m\u001b[0m\n\u001b[0;32m---> 19\u001b[0;31m     \u001b[0mpred\u001b[0m\u001b[0;34m,\u001b[0m \u001b[0merr_vec\u001b[0m\u001b[0;34m[\u001b[0m\u001b[0mi\u001b[0m\u001b[0;34m]\u001b[0m \u001b[0;34m=\u001b[0m \u001b[0mtrain\u001b[0m\u001b[0;34m(\u001b[0m\u001b[0mU\u001b[0m\u001b[0;34m,\u001b[0m \u001b[0mP\u001b[0m\u001b[0;34m,\u001b[0m \u001b[0mV\u001b[0m\u001b[0;34m)\u001b[0m\u001b[0;34m\u001b[0m\u001b[0m\n\u001b[0m\u001b[1;32m     20\u001b[0m     \u001b[0;32mprint\u001b[0m \u001b[0mi\u001b[0m\u001b[0;34m,\u001b[0m \u001b[0merr_vec\u001b[0m\u001b[0;34m[\u001b[0m\u001b[0mi\u001b[0m\u001b[0;34m]\u001b[0m\u001b[0;34m\u001b[0m\u001b[0m\n\u001b[1;32m     21\u001b[0m \u001b[0;34m\u001b[0m\u001b[0m\n",
      "\u001b[0;31mValueError\u001b[0m: setting an array element with a sequence."
     ]
    }
   ],
   "source": [
    "training_steps = 500\n",
    "lambda0 = 0.01 # regularization parameter\n",
    "mu = 0.1 # learning rate\n",
    "\n",
    "err = T.nnet.categorical_crossentropy(s,v)\n",
    "cost = err.mean() + lambda0 * ((w ** 2).sum() + (d ** 2).sum())\n",
    "gw, gd = T.grad(cost, [w, d])\n",
    "\n",
    "# Compile\n",
    "train = theano.function(\n",
    "          inputs=[u,p,v],\n",
    "          outputs=[s, err],\n",
    "          updates=((w, w - mu * gw), (d, d - mu * gd)))\n",
    "predict = theano.function(inputs=[u,p], outputs=s)\n",
    "\n",
    "# Train\n",
    "err_vec = np.zeros(training_steps)\n",
    "for i in range(training_steps):\n",
    "    pred, error = train(U, P, V)\n",
    "    err_vec[i] = error.mean()\n",
    "    print i, err_vec[i]\n",
    "    \n",
    "print(\"Final model:\")\n",
    "print(w.get_value())\n",
    "print(d.get_value())\n",
    "print(\"target values for D:\")\n",
    "print(V)\n",
    "print(\"prediction on D:\")\n",
    "print(predict(U,P))"
   ]
  },
  {
   "cell_type": "code",
   "execution_count": 22,
   "metadata": {
    "collapsed": true
   },
   "outputs": [],
   "source": [
    "v_max = np.argmax(V,axis=1)\n",
    "p_max = np.argmax(predict(U,P),axis=1)"
   ]
  },
  {
   "cell_type": "code",
   "execution_count": 28,
   "metadata": {
    "collapsed": false
   },
   "outputs": [
    {
     "data": {
      "text/plain": [
       "0.08533274561465022"
      ]
     },
     "execution_count": 28,
     "metadata": {},
     "output_type": "execute_result"
    }
   ],
   "source": [
    "sum(v_max == p_max) / float(M)"
   ]
  },
  {
   "cell_type": "code",
   "execution_count": 31,
   "metadata": {
    "collapsed": false
   },
   "outputs": [
    {
     "data": {
      "text/plain": [
       "[<matplotlib.lines.Line2D at 0x7fc1c9b58950>]"
      ]
     },
     "execution_count": 31,
     "metadata": {},
     "output_type": "execute_result"
    },
    {
     "data": {
      "image/png": "[encoded data removed]",
      "text/plain": [
       "<matplotlib.figure.Figure at 0x7fc1c9b58a90>"
      ]
     },
     "metadata": {},
     "output_type": "display_data"
    }
   ],
   "source": [
    "plt.plot(v_max[:50])\n",
    "plt.plot(p_max[:50])"
   ]
  },
  {
   "cell_type": "code",
   "execution_count": 17,
   "metadata": {
    "collapsed": false
   },
   "outputs": [
    {
     "data": {
      "text/plain": [
       "[<matplotlib.lines.Line2D at 0x7fc19d5ec850>]"
      ]
     },
     "execution_count": 17,
     "metadata": {},
     "output_type": "execute_result"
    },
    {
     "data": {
      "image/png": "[encoded data removed]",
      "text/plain": [
       "<matplotlib.figure.Figure at 0x7fc18a44c6d0>"
      ]
     },
     "metadata": {},
     "output_type": "display_data"
    }
   ],
   "source": [
    "plt.plot(abs(w.get_value()))"
   ]
  },
  {
   "cell_type": "code",
   "execution_count": null,
   "metadata": {
    "collapsed": true
   },
   "outputs": [],
   "source": [
    "# Construct Theano expression graph\n",
    "p_1 = 1 / (1 + T.exp(-T.dot(x, w) - b))   # Probability that target = 1\n",
    "prediction = p_1 > 0.5                    # The prediction thresholded\n",
    "xent = -y * T.log(p_1) - (1-y) * T.log(1-p_1) # Cross-entropy loss function\n",
    "cost = xent.mean() + 0.01 * (w ** 2).sum()# The cost to minimize\n",
    "gw, gb = T.grad(cost, [w, b])             # Compute the gradient of the cost\n",
    "                                          # w.r.t weight vector w and\n",
    "                                          # bias term b\n",
    "                                          # (we shall return to this in a\n",
    "                                          # following section of this tutorial)\n",
    "\n",
    "# Compile\n",
    "train = theano.function(\n",
    "          inputs=[x,y],\n",
    "          outputs=[prediction, xent],\n",
    "          updates=((w, w - 0.1 * gw), (b, b - 0.1 * gb)))\n",
    "predict = theano.function(inputs=[x], outputs=prediction)\n",
    "\n",
    "# Train\n",
    "for i in range(training_steps):\n",
    "    pred, err = train(D[0], D[1])\n",
    "\n",
    "print(\"Final model:\")\n",
    "print(w.get_value())\n",
    "print(b.get_value())\n",
    "print(\"target values for D:\")\n",
    "print(D[1])\n",
    "print(\"prediction on D:\")\n",
    "print(predict(D[0]))"
   ]
  }
 ],
 "metadata": {
  "kernelspec": {
   "display_name": "Python 2",
   "language": "python",
   "name": "python2"
  },
  "language_info": {
   "codemirror_mode": {
    "name": "ipython",
    "version": 2
   },
   "file_extension": ".py",
   "mimetype": "text/x-python",
   "name": "python",
   "nbconvert_exporter": "python",
   "pygments_lexer": "ipython2",
   "version": "2.7.13"
  }
 },
 "nbformat": 4,
 "nbformat_minor": 2
}
