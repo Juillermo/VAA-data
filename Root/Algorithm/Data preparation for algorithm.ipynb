{
 "cells": [
  {
   "cell_type": "code",
   "execution_count": 70,
   "metadata": {
    "collapsed": true
   },
   "outputs": [],
   "source": [
    "%matplotlib inline\n",
    "import numpy as np\n",
    "import pandas as pd\n",
    "import matplotlib.pyplot as plt\n",
    "#import scikit-learn as sk\n",
    "import theano\n",
    "import theano.tensor as T"
   ]
  },
  {
   "cell_type": "code",
   "execution_count": 2,
   "metadata": {
    "collapsed": false
   },
   "outputs": [],
   "source": [
    "df = pd.read_csv('../Predata/GUILLE/Spain_CURADO.csv', low_memory=False)"
   ]
  },
  {
   "cell_type": "markdown",
   "metadata": {},
   "source": [
    "### Preparing users' voting intention"
   ]
  },
  {
   "cell_type": "code",
   "execution_count": 124,
   "metadata": {
    "collapsed": false
   },
   "outputs": [
    {
     "name": "stdout",
     "output_type": "stream",
     "text": [
      "vi size: 99821\n",
      "Missing vi: 0\n",
      "['PP', 'PSOE', 'UPyD', 'Ciudadanos', 'VOX', 'Podemos', 'RED', 'IU', 'PNV_CiU', 'ERC', 'BNG_Bildu', 'Equo']\n",
      "Filtered vi size: 99821\n",
      "0           PP\n",
      "1         PSOE\n",
      "2           IU\n",
      "3         UpyD\n",
      "4      PNV_CiU\n",
      "5          ERC\n",
      "6    BNG_Bildu\n",
      "7      Podemos\n",
      "8         Equo\n",
      "9          VOX\n",
      "Name: Party_ID, dtype: object\n"
     ]
    },
    {
     "data": {
      "image/png": "[encoded data removed]",
      "text/plain": [
       "<matplotlib.figure.Figure at 0x7f820dc07490>"
      ]
     },
     "metadata": {},
     "output_type": "display_data"
    }
   ],
   "source": [
    "vi_raw = df.loc[:,'European.Prefered.Party']\n",
    "print \"vi size:\", len(vi_raw)\n",
    "print \"Missing vi:\",sum(vi_raw.isna())\n",
    "\n",
    "party_code = ['PP', 'PSOE', 'UPyD', 'Ciudadanos', 'VOX', 'Podemos', 'RED', 'IU', 'PNV_CiU', 'ERC', 'BNG_Bildu', 'Equo']\n",
    "party_code_dic = {el:i+1 for i,el in enumerate(party_code)}\n",
    "print party_code\n",
    "plt.plot(vi_raw)\n",
    "\n",
    "#plt.plot(vi.notna())\n",
    "vi = vi_raw[vi_raw.notna()]\n",
    "\n",
    "#plt.plot(vi <= len(party_code))\n",
    "vi = vi[vi <= len(party_code)]\n",
    "\n",
    "#plt.plot(vi != party_code_dic['Ciudadanos'])\n",
    "vi = vi[vi != party_code_dic['Ciudadanos']]\n",
    "#plt.plot(vi != party_code_dic['RED'])\n",
    "vi = vi[vi != party_code_dic['RED']]\n",
    "print \"Filtered vi size:\", len(vi)\n",
    "\n",
    "## Remapping to Party answers\n",
    "P = pd.read_csv('es_party_XYZ.csv', delim_whitespace=True)\n",
    "\n",
    "ol_party_code = P['Party_ID']\n",
    "ol_dic = {el:i+1 for i,el in enumerate(ol_party_code)}\n",
    "print ol_party_code\n",
    "\n",
    "plt.plot(vi)\n",
    "vi_raw = vi.copy()\n",
    "for i,party in enumerate(ol_party_code):\n",
    "    if party == 'UpyD':\n",
    "        party = 'UPyD'\n",
    "    vi[vi_raw == party_code_dic[party]] = i\n",
    "plt.plot(vi)\n",
    "\n",
    "vi.to_csv('voting_intention.csv')"
   ]
  },
  {
   "cell_type": "markdown",
   "metadata": {},
   "source": [
    "### Preparing users' answers"
   ]
  },
  {
   "cell_type": "code",
   "execution_count": 123,
   "metadata": {
    "collapsed": false
   },
   "outputs": [
    {
     "name": "stdout",
     "output_type": "stream",
     "text": [
      "30 answers\n",
      "Reduced database size: (99821, 30)\n"
     ]
    }
   ],
   "source": [
    "answer_cols = [\"Ans_\"+str(i+1) for i in range(30)]\n",
    "print len(answer_cols), \"answers\"\n",
    "\n",
    "reduced = df.loc[vi.index, answer_cols]\n",
    "print \"Reduced database size:\", reduced.shape\n",
    "\n",
    "reduced.to_csv('input_to_algorithm.csv')"
   ]
  }
 ],
 "metadata": {
  "kernelspec": {
   "display_name": "Python 2",
   "language": "python",
   "name": "python2"
  },
  "language_info": {
   "codemirror_mode": {
    "name": "ipython",
    "version": 2
   },
   "file_extension": ".py",
   "mimetype": "text/x-python",
   "name": "python",
   "nbconvert_exporter": "python",
   "pygments_lexer": "ipython2",
   "version": "2.7.13"
  }
 },
 "nbformat": 4,
 "nbformat_minor": 2
}
