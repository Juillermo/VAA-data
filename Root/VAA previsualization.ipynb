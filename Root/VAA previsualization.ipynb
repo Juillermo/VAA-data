{
 "cells": [
  {
   "cell_type": "code",
   "execution_count": 1,
   "metadata": {
    "collapsed": true
   },
   "outputs": [],
   "source": [
    "%matplotlib inline\n",
    "import numpy as np\n",
    "import pandas as pd\n",
    "import matplotlib.pyplot as plt"
   ]
  },
  {
   "cell_type": "code",
   "execution_count": 2,
   "metadata": {
    "collapsed": false
   },
   "outputs": [],
   "source": [
    "df = pd.read_csv('Predata/GUILLE/Spain_CURADO.csv', low_memory=False)"
   ]
  },
  {
   "cell_type": "code",
   "execution_count": 3,
   "metadata": {
    "collapsed": false
   },
   "outputs": [
    {
     "name": "stdout",
     "output_type": "stream",
     "text": [
      "<class 'pandas.core.frame.DataFrame'>\n",
      "RangeIndex: 281559 entries, 0 to 281558\n",
      "Columns: 201 entries, ANS_Party to Partido_Preferido\n",
      "dtypes: float64(112), int64(76), object(13)\n",
      "memory usage: 431.8+ MB\n"
     ]
    }
   ],
   "source": [
    "df.info()"
   ]
  },
  {
   "cell_type": "code",
   "execution_count": 5,
   "metadata": {
    "collapsed": false
   },
   "outputs": [
    {
     "data": {
      "text/html": [
       "<div>\n",
       "<table border=\"1\" class=\"dataframe\">\n",
       "  <thead>\n",
       "    <tr style=\"text-align: right;\">\n",
       "      <th></th>\n",
       "      <th>ANS_Party</th>\n",
       "      <th>Record.ID</th>\n",
       "      <th>Attempt</th>\n",
       "      <th>IP.Address</th>\n",
       "      <th>Browser</th>\n",
       "      <th>Version</th>\n",
       "      <th>Platform</th>\n",
       "      <th>Mobile</th>\n",
       "      <th>Timestamp</th>\n",
       "      <th>X.Placement</th>\n",
       "      <th>...</th>\n",
       "      <th>Petition</th>\n",
       "      <th>Boycot</th>\n",
       "      <th>MaxParty</th>\n",
       "      <th>MaxParty_NA</th>\n",
       "      <th>MaxParty_Rep</th>\n",
       "      <th>Preferido_Partido_Pref.F</th>\n",
       "      <th>Partido_Pref.Comparado.F</th>\n",
       "      <th>english</th>\n",
       "      <th>Partido_Maximo</th>\n",
       "      <th>Partido_Preferido</th>\n",
       "    </tr>\n",
       "  </thead>\n",
       "  <tbody>\n",
       "    <tr>\n",
       "      <th>0</th>\n",
       "      <td>19.0</td>\n",
       "      <td>203846</td>\n",
       "      <td>1</td>\n",
       "      <td>30c55d031f11e6bdd84db7abb2e1241c</td>\n",
       "      <td>iPhone</td>\n",
       "      <td>7</td>\n",
       "      <td>iPhone</td>\n",
       "      <td>1</td>\n",
       "      <td>5/20/2014 6:31</td>\n",
       "      <td>NaN</td>\n",
       "      <td>...</td>\n",
       "      <td>NaN</td>\n",
       "      <td>NaN</td>\n",
       "      <td>NaN</td>\n",
       "      <td>172334</td>\n",
       "      <td>NaN</td>\n",
       "      <td>NaN</td>\n",
       "      <td>NaN</td>\n",
       "      <td>PP</td>\n",
       "      <td>NaN</td>\n",
       "      <td>PP</td>\n",
       "    </tr>\n",
       "    <tr>\n",
       "      <th>1</th>\n",
       "      <td>19.0</td>\n",
       "      <td>100086</td>\n",
       "      <td>1</td>\n",
       "      <td>68fe4acce80979ac9e4229ffa206a2cd</td>\n",
       "      <td>Internet Explorer</td>\n",
       "      <td>9</td>\n",
       "      <td>Windows</td>\n",
       "      <td>0</td>\n",
       "      <td>5/9/2014 3:12</td>\n",
       "      <td>5.0</td>\n",
       "      <td>...</td>\n",
       "      <td>NaN</td>\n",
       "      <td>NaN</td>\n",
       "      <td>10.0</td>\n",
       "      <td>172334</td>\n",
       "      <td>1.0</td>\n",
       "      <td>DD_PP</td>\n",
       "      <td>PP</td>\n",
       "      <td>PP</td>\n",
       "      <td>PP</td>\n",
       "      <td>PP</td>\n",
       "    </tr>\n",
       "  </tbody>\n",
       "</table>\n",
       "<p>2 rows × 201 columns</p>\n",
       "</div>"
      ],
      "text/plain": [
       "   ANS_Party  Record.ID  Attempt                        IP.Address  \\\n",
       "0       19.0     203846        1  30c55d031f11e6bdd84db7abb2e1241c   \n",
       "1       19.0     100086        1  68fe4acce80979ac9e4229ffa206a2cd   \n",
       "\n",
       "             Browser Version Platform  Mobile       Timestamp  X.Placement  \\\n",
       "0             iPhone       7   iPhone       1  5/20/2014 6:31          NaN   \n",
       "1  Internet Explorer       9  Windows       0   5/9/2014 3:12          5.0   \n",
       "\n",
       "         ...          Petition  Boycot MaxParty MaxParty_NA  MaxParty_Rep  \\\n",
       "0        ...               NaN     NaN      NaN      172334           NaN   \n",
       "1        ...               NaN     NaN     10.0      172334           1.0   \n",
       "\n",
       "   Preferido_Partido_Pref.F  Partido_Pref.Comparado.F  english  \\\n",
       "0                       NaN                       NaN       PP   \n",
       "1                     DD_PP                        PP       PP   \n",
       "\n",
       "   Partido_Maximo  Partido_Preferido  \n",
       "0             NaN                 PP  \n",
       "1              PP                 PP  \n",
       "\n",
       "[2 rows x 201 columns]"
      ]
     },
     "execution_count": 5,
     "metadata": {},
     "output_type": "execute_result"
    }
   ],
   "source": [
    "df.head(2)"
   ]
  },
  {
   "cell_type": "code",
   "execution_count": 6,
   "metadata": {
    "collapsed": false
   },
   "outputs": [
    {
     "data": {
      "text/plain": [
       "Index([u'ANS_Party', u'Record.ID', u'Attempt', u'IP.Address', u'Browser',\n",
       "       u'Version', u'Platform', u'Mobile', u'Timestamp', u'X.Placement',\n",
       "       ...\n",
       "       u'Petition', u'Boycot', u'MaxParty', u'MaxParty_NA', u'MaxParty_Rep',\n",
       "       u'Preferido_Partido_Pref.F', u'Partido_Pref.Comparado.F', u'english',\n",
       "       u'Partido_Maximo', u'Partido_Preferido'],\n",
       "      dtype='object', length=201)"
      ]
     },
     "execution_count": 6,
     "metadata": {},
     "output_type": "execute_result"
    }
   ],
   "source": [
    "df.columns"
   ]
  },
  {
   "cell_type": "code",
   "execution_count": 10,
   "metadata": {
    "collapsed": false
   },
   "outputs": [
    {
     "name": "stdout",
     "output_type": "stream",
     "text": [
      "ANS_Party\n",
      "Record.ID\n",
      "Attempt\n",
      "IP.Address\n",
      "Browser\n",
      "Version\n",
      "Platform\n",
      "Mobile\n",
      "Timestamp\n",
      "X.Placement\n",
      "Y.Placement\n",
      "Z.Placement\n",
      "language\n",
      "http_referer\n",
      "sq1t\n",
      "sq2t\n",
      "sl2at\n",
      "sl2bt\n",
      "sl2ct\n",
      "dd1t\n",
      "optint\n",
      "SupQ_1\n",
      "SupQ_2\n",
      "SupQ_3\n",
      "SupQ_4\n",
      "SupQ_5\n",
      "SupQ_6\n",
      "SupQ_7\n",
      "SupQ_8\n",
      "SupQ_9\n",
      "SupQ_10\n",
      "SupQ_11\n",
      "SupQ_12\n",
      "SupQ_13\n",
      "SupQ_14\n",
      "SupQ_15\n",
      "SupQ_16\n",
      "SupQ_17\n",
      "SupQ_18\n",
      "SupQ_19\n",
      "SupQ_20\n",
      "SL1_PP\n",
      "SL1_PSOE\n",
      "SL1_IU\n",
      "SL1_UpyD\n",
      "SL1_PNV_CiU\n",
      "SL1_ERC\n",
      "SL1_BNG_Bildu\n",
      "SL1_Podemos\n",
      "SL2_PP\n",
      "SL2_PSOE\n",
      "SL2_IU\n",
      "SL2_UpyD\n",
      "SL2_PNV_CiU\n",
      "SL2_ERC\n",
      "SL2_BNG_Bildu\n",
      "SL2_Podemos\n",
      "SL3_PP\n",
      "SL3_PSOE\n",
      "SL3_IU\n",
      "SL3_UpyD\n",
      "SL3_PNV_CiU\n",
      "SL3_ERC\n",
      "SL3_BNG_Bildu\n",
      "SL3_Podemos\n",
      "DD_PP\n",
      "DD_PSOE\n",
      "DD_IU\n",
      "DD_UpyD\n",
      "DD_PNV_CiU\n",
      "DD_ERC\n",
      "DD_BNG_Bildu\n",
      "DD_Podemos\n",
      "DD_Equo\n",
      "DD_VOX\n",
      "Ans_1\n",
      "RTime_1\n",
      "Ans_2\n",
      "RTime_2\n",
      "Ans_3\n",
      "RTime_3\n",
      "Ans_4\n",
      "RTime_4\n",
      "Ans_5\n",
      "RTime_5\n",
      "Ans_6\n",
      "RTime_6\n",
      "Ans_7\n",
      "RTime_7\n",
      "Ans_8\n",
      "RTime_8\n",
      "Ans_9\n",
      "RTime_9\n",
      "Ans_10\n",
      "RTime_10\n",
      "Ans_11\n",
      "RTime_11\n",
      "Ans_12\n",
      "RTime_12\n",
      "Ans_13\n",
      "RTime_13\n",
      "Ans_14\n",
      "RTime_14\n",
      "Ans_15\n",
      "RTime_15\n",
      "Ans_16\n",
      "RTime_16\n",
      "Ans_17\n",
      "RTime_17\n",
      "Ans_18\n",
      "RTime_18\n",
      "Ans_19\n",
      "RTime_19\n",
      "Ans_20\n",
      "RTime_20\n",
      "Ans_21\n",
      "RTime_21\n",
      "Ans_22\n",
      "RTime_22\n",
      "Ans_23\n",
      "RTime_23\n",
      "Ans_24\n",
      "RTime_24\n",
      "Ans_25\n",
      "RTime_25\n",
      "Ans_26\n",
      "RTime_26\n",
      "Ans_27\n",
      "RTime_27\n",
      "Ans_28\n",
      "RTime_28\n",
      "Ans_29\n",
      "RTime_29\n",
      "Ans_30\n",
      "RTime_30\n",
      "Total.Time\n",
      "maxSuccessiveEqualAnswers\n",
      "less2\n",
      "less3\n",
      "noOpinions\n",
      "Country\n",
      "Q1\n",
      "Q2\n",
      "Q3\n",
      "Q4\n",
      "Close.Party\n",
      "European.Prefered.Party\n",
      "Reasons\n",
      "Last.Voted\n",
      "National.Preferred\n",
      "Interest.Politics\n",
      "TotInt_5\n",
      "TotInt_6\n",
      "TotInt_7\n",
      "TotInt_8\n",
      "TotInt_9\n",
      "TotInt_10\n",
      "PorcentajePartidos.5\n",
      "PorcentajePartidos.6\n",
      "PorcentajePartidos.7\n",
      "PorcentajePartidos.8\n",
      "PorcentajePartidos.9\n",
      "PorcentajePartidos.10\n",
      "VoteProb.5\n",
      "VoteProb.6\n",
      "VoteProb.7\n",
      "VoteProb.8\n",
      "VoteProb.9\n",
      "VoteProb.10\n",
      "Sub_DD_PP\n",
      "Sub_DD_PSOE\n",
      "Sub_DD_IU\n",
      "Sub_DD_UpyD\n",
      "Sub_DD_PNV_CiU\n",
      "Sub_DD_ERC\n",
      "Sub_DD_BNG_Bildu\n",
      "Sub_DD_Podemos\n",
      "Sub_DD_Equo\n",
      "Sub_DD_VOX\n",
      "Gender\n",
      "Foreigner\n",
      "Education\n",
      "Urban\n",
      "Age\n",
      "Joven\n",
      "Religion\n",
      "Employment\n",
      "Unemployment\n",
      "Demonstration\n",
      "Contacted\n",
      "ActiveRole\n",
      "Petition\n",
      "Boycot\n",
      "MaxParty\n",
      "MaxParty_NA\n",
      "MaxParty_Rep\n",
      "Preferido_Partido_Pref.F\n",
      "Partido_Pref.Comparado.F\n",
      "english\n",
      "Partido_Maximo\n",
      "Partido_Preferido\n"
     ]
    }
   ],
   "source": [
    "for el in df.columns:\n",
    "    print(el): "
   ]
  },
  {
   "cell_type": "code",
   "execution_count": 162,
   "metadata": {
    "collapsed": true
   },
   "outputs": [],
   "source": [
    "def areCatVal(df):\n",
    "    return (df['SupQ_7'] == 119) | (df['SupQ_7'] == 120)\n",
    "def areCat(df):\n",
    "    return (df['SupQ_7'] == 119)\n",
    "def areVal(df):\n",
    "    return (df['SupQ_7'] == 120)\n",
    "def areAll(df):\n",
    "    return (df['SupQ_7'] != 999)\n",
    "def areGal(df):\n",
    "    return (df['SupQ_7'] == 122)\n",
    "def areVasc(df):\n",
    "    return (df['SupQ_7'] == 126)"
   ]
  },
  {
   "cell_type": "code",
   "execution_count": 61,
   "metadata": {
    "collapsed": false
   },
   "outputs": [],
   "source": [
    "def castellanoVsCatala(ax_party, pop_segment):\n",
    "    fig, ax = plt.subplots(1,2, figsize=(20,5))\n",
    "    df.loc[(df['language']=='castellano') & pop_segment(df), ax_party].hist(bins=21, ax=ax[0])\n",
    "    ax[0].set(title='Castellanoparlantes')\n",
    "    df.loc[(df['language']=='catalan') & pop_segment(df), ax_party].hist(bins=21, ax=ax[1])\n",
    "    ax[1].set(title='Cataloparlantes')"
   ]
  },
  {
   "cell_type": "code",
   "execution_count": 69,
   "metadata": {
    "collapsed": true
   },
   "outputs": [
    {
     "data": {
      "image/png": "[encoded data removed]",
      "text/plain": [
       "<matplotlib.figure.Figure at 0x7f21df212a10>"
      ]
     },
     "metadata": {},
     "output_type": "display_data"
    }
   ],
   "source": [
    "castellanoVsCatala('SL3_ERC', areAll)"
   ]
  },
  {
   "cell_type": "code",
   "execution_count": 65,
   "metadata": {
    "collapsed": true
   },
   "outputs": [
    {
     "data": {
      "image/png": "[encoded data removed]",
      "text/plain": [
       "<matplotlib.figure.Figure at 0x7f21e0a34350>"
      ]
     },
     "metadata": {},
     "output_type": "display_data"
    }
   ],
   "source": [
    "castellanoVsCatala('SL3_ERC', areCat)"
   ]
  },
  {
   "cell_type": "code",
   "execution_count": 66,
   "metadata": {
    "collapsed": true
   },
   "outputs": [
    {
     "data": {
      "image/png": "[encoded data removed]",
      "text/plain": [
       "<matplotlib.figure.Figure at 0x7f21e0a27450>"
      ]
     },
     "metadata": {},
     "output_type": "display_data"
    }
   ],
   "source": [
    "castellanoVsCatala('SL3_ERC', areVal)"
   ]
  },
  {
   "cell_type": "code",
   "execution_count": 67,
   "metadata": {
    "collapsed": true
   },
   "outputs": [
    {
     "data": {
      "image/png": "[encoded data removed]",
      "text/plain": [
       "<matplotlib.figure.Figure at 0x7f21e0a33f90>"
      ]
     },
     "metadata": {},
     "output_type": "display_data"
    }
   ],
   "source": [
    "castellanoVsCatala('SL3_ERC', areCat)"
   ]
  },
  {
   "cell_type": "code",
   "execution_count": 25,
   "metadata": {
    "collapsed": false
   },
   "outputs": [
    {
     "data": {
      "text/plain": [
       "castellano    251661\n",
       "catalan        19303\n",
       "galego          7103\n",
       "euskera         2166\n",
       "english         1324\n",
       "gallego            2\n",
       "Name: language, dtype: int64"
      ]
     },
     "execution_count": 25,
     "metadata": {},
     "output_type": "execute_result"
    }
   ],
   "source": [
    "df['Timestamp']"
   ]
  },
  {
   "cell_type": "code",
   "execution_count": 70,
   "metadata": {
    "collapsed": false
   },
   "outputs": [
    {
     "data": {
      "text/plain": [
       "count    281559.000000\n",
       "mean          9.795443\n",
       "std          50.503274\n",
       "min           0.000000\n",
       "25%           5.000000\n",
       "50%           7.000000\n",
       "75%          10.000000\n",
       "max       18175.000000\n",
       "Name: RTime_27, dtype: float64"
      ]
     },
     "execution_count": 70,
     "metadata": {},
     "output_type": "execute_result"
    }
   ],
   "source": [
    "df.describe().loc[:,'RTime_27']"
   ]
  },
  {
   "cell_type": "code",
   "execution_count": 94,
   "metadata": {
    "collapsed": false
   },
   "outputs": [
    {
     "data": {
      "text/plain": [
       "count    12486.000000\n",
       "mean         3.672753\n",
       "std          1.427205\n",
       "min          1.000000\n",
       "25%          3.000000\n",
       "50%          4.000000\n",
       "75%          5.000000\n",
       "max          6.000000\n",
       "Name: Ans_27, dtype: float64"
      ]
     },
     "execution_count": 94,
     "metadata": {},
     "output_type": "execute_result"
    },
    {
     "data": {
      "image/png": "[encoded data removed]",
      "text/plain": [
       "<matplotlib.figure.Figure at 0x7f21de4ad950>"
      ]
     },
     "metadata": {},
     "output_type": "display_data"
    }
   ],
   "source": [
    "asd = df.loc[(df['language']=='castellano') & areCat(df),'Ans_27']\n",
    "asd[asd < 20].hist(bins=20)\n",
    "asd.describe()"
   ]
  },
  {
   "cell_type": "code",
   "execution_count": 95,
   "metadata": {
    "collapsed": false
   },
   "outputs": [
    {
     "data": {
      "text/plain": [
       "count    8903.000000\n",
       "mean        4.532068\n",
       "std         0.975238\n",
       "min         1.000000\n",
       "25%         4.000000\n",
       "50%         5.000000\n",
       "75%         5.000000\n",
       "max         6.000000\n",
       "Name: Ans_27, dtype: float64"
      ]
     },
     "execution_count": 95,
     "metadata": {},
     "output_type": "execute_result"
    },
    {
     "data": {
      "image/png": "[encoded data removed]",
      "text/plain": [
       "<matplotlib.figure.Figure at 0x7f21de28b610>"
      ]
     },
     "metadata": {},
     "output_type": "display_data"
    }
   ],
   "source": [
    "asd = df.loc[((df['language']=='catalan') & areCat(df)),'Ans_27']\n",
    "asd[asd < 20].hist(bins=20)\n",
    "asd.describe()"
   ]
  },
  {
   "cell_type": "code",
   "execution_count": 96,
   "metadata": {
    "collapsed": false
   },
   "outputs": [
    {
     "data": {
      "image/png": "[encoded data removed]",
      "text/plain": [
       "<matplotlib.figure.Figure at 0x7f21de4dc710>"
      ]
     },
     "metadata": {},
     "output_type": "display_data"
    }
   ],
   "source": [
    "fig,ax = plt.subplots(1,2, figsize=(20,5))\n",
    "asd = df.loc[(df['language']=='castellano') & areCat(df),'Ans_27'].hist(ax=ax[0])\n",
    "asd = df.loc[(df['language']=='catalan') & areCat(df),'Ans_27'].hist(ax=ax[1])"
   ]
  },
  {
   "cell_type": "code",
   "execution_count": 135,
   "metadata": {
    "collapsed": false
   },
   "outputs": [
    {
     "data": {
      "text/plain": [
       "16.0    4244\n",
       "17.0    2375\n",
       "8.0     2045\n",
       "15.0    1671\n",
       "19.0    1226\n",
       "10.0    1174\n",
       "6.0      745\n",
       "18.0     631\n",
       "2.0      388\n",
       "13.0     214\n",
       "14.0     176\n",
       "4.0       53\n",
       "7.0       49\n",
       "3.0       39\n",
       "1.0       38\n",
       "5.0       19\n",
       "11.0       8\n",
       "9.0        7\n",
       "12.0       5\n",
       "Name: National.Preferred, dtype: int64"
      ]
     },
     "execution_count": 135,
     "metadata": {},
     "output_type": "execute_result"
    }
   ],
   "source": [
    "df.loc[df['language']=='catalan','National.Preferred'].value_counts()"
   ]
  },
  {
   "cell_type": "code",
   "execution_count": 136,
   "metadata": {
    "collapsed": false
   },
   "outputs": [
    {
     "data": {
      "text/plain": [
       "123.0    38558\n",
       "120.0    24108\n",
       "111.0    22623\n",
       "119.0    21598\n",
       "122.0    12472\n",
       "117.0    10398\n",
       "126.0     7916\n",
       "109.0     7610\n",
       "115.0     6825\n",
       "118.0     6543\n",
       "112.0     6482\n",
       "113.0     6211\n",
       "114.0     5024\n",
       "124.0     4849\n",
       "121.0     3012\n",
       "116.0     2478\n",
       "125.0     2186\n",
       "127.0     1235\n",
       "130.0     1029\n",
       "110.0      621\n",
       "129.0      137\n",
       "128.0      130\n",
       "Name: SupQ_7, dtype: int64"
      ]
     },
     "execution_count": 136,
     "metadata": {},
     "output_type": "execute_result"
    }
   ],
   "source": [
    "df['A'].value_counts()"
   ]
  },
  {
   "cell_type": "code",
   "execution_count": 99,
   "metadata": {
    "collapsed": false
   },
   "outputs": [
    {
     "data": {
      "text/plain": [
       "69405"
      ]
     },
     "execution_count": 99,
     "metadata": {},
     "output_type": "execute_result"
    }
   ],
   "source": [
    "(df['European.Prefered.Party'] == df['National.Preferred']).sum()"
   ]
  },
  {
   "cell_type": "markdown",
   "metadata": {},
   "source": [
    "-----------------------\n",
    "\n",
    "ERC visto desde catalanoparlantes y españoles"
   ]
  },
  {
   "cell_type": "code",
   "execution_count": null,
   "metadata": {
    "collapsed": true
   },
   "outputs": [],
   "source": [
    "df.loc[df['language']=='catalan', 'SL2_ERC'].hist(bins=21)\n",
    "df.loc[df['language']=='castellano', 'SL2_ERC'].hist(bins=21)\n",
    "\n",
    "df.loc[df['language']=='catalan', 'SL3_ERC'].hist(bins=21)\n",
    "df.loc[df['language']=='castellano', 'SL3_ERC'].hist(bins=21)\n",
    "\n",
    "df.loc[df['language']=='euskera', 'SL3_PNV_CiU'].hist(bins=21)\n",
    "df.loc[df['language']=='catalan', 'SL3_PNV_CiU'].hist(bins=21)\n",
    "df.loc[df['language']=='castellano', 'SL3_PNV_CiU'].hist(bins=21)"
   ]
  },
  {
   "cell_type": "code",
   "execution_count": 42,
   "metadata": {
    "collapsed": false
   },
   "outputs": [
    {
     "data": {
      "text/plain": [
       "<matplotlib.axes._subplots.AxesSubplot at 0x7f21f4e8db50>"
      ]
     },
     "execution_count": 42,
     "metadata": {},
     "output_type": "execute_result"
    },
    {
     "data": {
      "image/png": "[encoded data removed]",
      "text/plain": [
       "<matplotlib.figure.Figure at 0x7f21f4e5cb10>"
      ]
     },
     "metadata": {},
     "output_type": "display_data"
    }
   ],
   "source": [
    "fig1, ax1 = plt.subplots(1,2, figsize=(20,5))\n",
    "df.loc[df['language']=='', 'SL3_ERC'].hist(bins=21, ax=ax1[0])\n",
    "df.loc[df['language']=='castellano', 'SL3_ERC'].hist(bins=21, ax=ax1[1])"
   ]
  },
  {
   "cell_type": "markdown",
   "metadata": {},
   "source": [
    "Solo los catalanes-valencianos"
   ]
  },
  {
   "cell_type": "code",
   "execution_count": null,
   "metadata": {
    "collapsed": true
   },
   "outputs": [],
   "source": [
    "df.loc[(df['language']=='castellano') & ((df['SupQ_7'] == 119) | (df['SupQ_7'] == 120)), 'SL3_ERC'].hist(bins=21)\n",
    "df.loc[(df['language']=='catalan') & ((df['SupQ_7'] == 119) | (df['SupQ_7'] == 120)), 'SL3_ERC'].hist(bins=21)"
   ]
  },
  {
   "cell_type": "markdown",
   "metadata": {},
   "source": [
    "### Tiempo de respuesta\n",
    "Más emocional = menos tiempo de deliberación"
   ]
  },
  {
   "cell_type": "code",
   "execution_count": 101,
   "metadata": {
    "collapsed": false
   },
   "outputs": [
    {
     "data": {
      "text/plain": [
       "count    8903.000000\n",
       "mean        9.264630\n",
       "std        66.182867\n",
       "min         0.000000\n",
       "25%         4.000000\n",
       "50%         6.000000\n",
       "75%         9.000000\n",
       "max      6106.000000\n",
       "Name: RTime_27, dtype: float64"
      ]
     },
     "execution_count": 101,
     "metadata": {},
     "output_type": "execute_result"
    },
    {
     "data": {
      "image/png": "[encoded data removed]",
      "text/plain": [
       "<matplotlib.figure.Figure at 0x7f21dddcadd0>"
      ]
     },
     "metadata": {},
     "output_type": "display_data"
    }
   ],
   "source": [
    "fig,ax = plt.subplots(1,2, figsize=(20,5))\n",
    "asd = df.loc[(df['language']=='castellano') & areCat(df),'RTime_27']\n",
    "asd[asd < 20].hist(bins=20, ax=ax[0])\n",
    "asd.describe()\n",
    "ax[0].set(title='Castellano-parlantes')\n",
    "asd = df.loc[(df['language']=='catalan') & areCat(df),'RTime_27']\n",
    "asd[asd < 20].hist(bins=20, ax=ax[1])\n",
    "ax[1].set(title='Catalano-parlantes')\n",
    "asd.describe()"
   ]
  },
  {
   "cell_type": "code",
   "execution_count": 138,
   "metadata": {
    "collapsed": false
   },
   "outputs": [
    {
     "data": {
      "text/plain": [
       "count    4804.000000\n",
       "mean        6.868443\n",
       "std        24.283353\n",
       "min         1.000000\n",
       "25%         4.000000\n",
       "50%         5.000000\n",
       "75%         6.000000\n",
       "max      1543.000000\n",
       "Name: RTime_29, dtype: float64"
      ]
     },
     "execution_count": 138,
     "metadata": {},
     "output_type": "execute_result"
    },
    {
     "data": {
      "image/png": "[encoded data removed]",
      "text/plain": [
       "<matplotlib.figure.Figure at 0x7f21dd57a410>"
      ]
     },
     "metadata": {},
     "output_type": "display_data"
    }
   ],
   "source": [
    "fig,ax = plt.subplots(1,2, figsize=(20,5))\n",
    "asd = df.loc[(df['language']=='castellano') & (df['Ans_29'] != 9) & areAll(df),'RTime_29']\n",
    "asd[asd < 20].hist(bins=20, ax=ax[0])#, cumulative=True)\n",
    "asd.describe()\n",
    "ax[0].set(title='Castellano-parlantes')\n",
    "asd1 = df.loc[(df['language']=='catalan') & (df['Ans_29'] == 1) & areCat(df),'RTime_29']\n",
    "asd1[asd1 < 20].hist(bins=20, ax=ax[1])#, cumulative=True)\n",
    "ax[1].set(title='Catalano-parlantes')\n",
    "asd1.describe()"
   ]
  },
  {
   "cell_type": "code",
   "execution_count": 166,
   "metadata": {
    "collapsed": false
   },
   "outputs": [
    {
     "data": {
      "text/plain": [
       "count    2241.000000\n",
       "mean        8.133869\n",
       "std        70.262092\n",
       "min         1.000000\n",
       "25%         4.000000\n",
       "50%         5.000000\n",
       "75%         7.000000\n",
       "max      3311.000000\n",
       "Name: RTime_29, dtype: float64"
      ]
     },
     "execution_count": 166,
     "metadata": {},
     "output_type": "execute_result"
    },
    {
     "data": {
      "image/png": "[encoded data removed]",
      "text/plain": [
       "<matplotlib.figure.Figure at 0x7f21de3b49d0>"
      ]
     },
     "metadata": {},
     "output_type": "display_data"
    }
   ],
   "source": [
    "fig,ax = plt.subplots(1,2, figsize=(20,5))\n",
    "asd = df.loc[(df['language']=='castellano') & (df['Ans_29'] != 9) & areAll(df),'RTime_29']\n",
    "asd[asd < 20].hist(bins=20, ax=ax[0])#, cumulative=True)\n",
    "asd.describe()\n",
    "ax[0].set(title='Castellano-parlantes')\n",
    "asd1 = df.loc[(df['language']=='galego') & (df['Ans_29'] == 1) & areGal(df),'RTime_29']\n",
    "asd1[asd1 < 20].hist(bins=20, ax=ax[1])#, cumulative=True)\n",
    "ax[1].set(title='Catalano-parlantes')\n",
    "asd1.describe()"
   ]
  },
  {
   "cell_type": "code",
   "execution_count": 141,
   "metadata": {
    "collapsed": false
   },
   "outputs": [
    {
     "data": {
      "image/png": "[encoded data removed]",
      "text/plain": [
       "<matplotlib.figure.Figure at 0x7f21de730cd0>"
      ]
     },
     "metadata": {},
     "output_type": "display_data"
    }
   ],
   "source": [
    "fig,ax = plt.subplots(1,2, figsize=(20,5))\n",
    "asd = df.loc[(df['language']=='castellano') & areCat(df),'Ans_29'].hist(ax=ax[0])\n",
    "asd = df.loc[(df['language']=='catalan') & areCat(df),'Ans_29'].hist(ax=ax[1])"
   ]
  },
  {
   "cell_type": "code",
   "execution_count": 143,
   "metadata": {
    "collapsed": false
   },
   "outputs": [
    {
     "data": {
      "image/png": "[encoded data removed]",
      "text/plain": [
       "<matplotlib.figure.Figure at 0x7f21de1c5890>"
      ]
     },
     "metadata": {},
     "output_type": "display_data"
    }
   ],
   "source": [
    "fig,ax = plt.subplots(1,2, figsize=(20,5))\n",
    "asd = df.loc[(df['language']=='castellano') & areGal(df),'Ans_29'].hist(ax=ax[0])\n",
    "asd = df.loc[(df['language']=='galego') & areGal(df),'Ans_29'].hist(ax=ax[1])"
   ]
  },
  {
   "cell_type": "code",
   "execution_count": 145,
   "metadata": {
    "collapsed": false
   },
   "outputs": [
    {
     "data": {
      "image/png": "[encoded data removed]",
      "text/plain": [
       "<matplotlib.figure.Figure at 0x7f21de5b6110>"
      ]
     },
     "metadata": {},
     "output_type": "display_data"
    }
   ],
   "source": [
    "fig,ax = plt.subplots(1,2, figsize=(20,5))\n",
    "asd = df.loc[(df['language']=='castellano') & areVasc(df),'Ans_29'].hist(ax=ax[0])\n",
    "asd = df.loc[(df['language']=='euskera') & areVasc(df),'Ans_29'].hist(ax=ax[1])"
   ]
  },
  {
   "cell_type": "code",
   "execution_count": 165,
   "metadata": {
    "collapsed": false
   },
   "outputs": [
    {
     "data": {
      "text/plain": [
       "<matplotlib.axes._subplots.AxesSubplot at 0x7f21dde0cf10>"
      ]
     },
     "execution_count": 165,
     "metadata": {},
     "output_type": "execute_result"
    },
    {
     "data": {
      "image/png": "[encoded data removed]",
      "text/plain": [
       "<matplotlib.figure.Figure at 0x7f21dcfcbcd0>"
      ]
     },
     "metadata": {},
     "output_type": "display_data"
    }
   ],
   "source": [
    "fig,ax = plt.subplots(1,2, figsize=(20,5))\n",
    "asd = df.loc[areGal(df),'Total.Time']\n",
    "asd[asd < 500].hist(bins=20, ax=ax[0])#, cumulative=True)\n",
    "asd1 = df.loc[areAll(df),'Total.Time']\n",
    "asd1[asd1 < 500].hist(bins=20, ax=ax[1])#, cumulative=True)"
   ]
  }
 ],
 "metadata": {
  "kernelspec": {
   "display_name": "Python 2",
   "language": "python",
   "name": "python2"
  },
  "language_info": {
   "codemirror_mode": {
    "name": "ipython",
    "version": 2
   },
   "file_extension": ".py",
   "mimetype": "text/x-python",
   "name": "python",
   "nbconvert_exporter": "python",
   "pygments_lexer": "ipython2",
   "version": "2.7.13"
  }
 },
 "nbformat": 4,
 "nbformat_minor": 2
}
