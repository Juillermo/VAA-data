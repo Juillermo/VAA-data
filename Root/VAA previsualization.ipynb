{
 "cells": [
  {
   "cell_type": "code",
   "execution_count": 17,
   "metadata": {
    "collapsed": true
   },
   "outputs": [],
   "source": [
    "%matplotlib inline\n",
    "import pandas as pd\n",
    "import matplotlib.pyplot as plt"
   ]
  },
  {
   "cell_type": "code",
   "execution_count": 4,
   "metadata": {
    "collapsed": false
   },
   "outputs": [],
   "source": [
    "spain_data = pd.read_csv('Predata/GUILLE/Spain_CURADO.csv', low_memory=False)"
   ]
  },
  {
   "cell_type": "code",
   "execution_count": 5,
   "metadata": {
    "collapsed": false
   },
   "outputs": [
    {
     "data": {
      "text/html": [
       "<div>\n",
       "<table border=\"1\" class=\"dataframe\">\n",
       "  <thead>\n",
       "    <tr style=\"text-align: right;\">\n",
       "      <th></th>\n",
       "      <th>ANS_Party</th>\n",
       "      <th>Record.ID</th>\n",
       "      <th>Attempt</th>\n",
       "      <th>IP.Address</th>\n",
       "      <th>Browser</th>\n",
       "      <th>Version</th>\n",
       "      <th>Platform</th>\n",
       "      <th>Mobile</th>\n",
       "      <th>Timestamp</th>\n",
       "      <th>X.Placement</th>\n",
       "      <th>...</th>\n",
       "      <th>Petition</th>\n",
       "      <th>Boycot</th>\n",
       "      <th>MaxParty</th>\n",
       "      <th>MaxParty_NA</th>\n",
       "      <th>MaxParty_Rep</th>\n",
       "      <th>Preferido_Partido_Pref.F</th>\n",
       "      <th>Partido_Pref.Comparado.F</th>\n",
       "      <th>english</th>\n",
       "      <th>Partido_Maximo</th>\n",
       "      <th>Partido_Preferido</th>\n",
       "    </tr>\n",
       "  </thead>\n",
       "  <tbody>\n",
       "    <tr>\n",
       "      <th>0</th>\n",
       "      <td>19.0</td>\n",
       "      <td>203846</td>\n",
       "      <td>1</td>\n",
       "      <td>30c55d031f11e6bdd84db7abb2e1241c</td>\n",
       "      <td>iPhone</td>\n",
       "      <td>7</td>\n",
       "      <td>iPhone</td>\n",
       "      <td>1</td>\n",
       "      <td>5/20/2014 6:31</td>\n",
       "      <td>NaN</td>\n",
       "      <td>...</td>\n",
       "      <td>NaN</td>\n",
       "      <td>NaN</td>\n",
       "      <td>NaN</td>\n",
       "      <td>172334</td>\n",
       "      <td>NaN</td>\n",
       "      <td>NaN</td>\n",
       "      <td>NaN</td>\n",
       "      <td>PP</td>\n",
       "      <td>NaN</td>\n",
       "      <td>PP</td>\n",
       "    </tr>\n",
       "    <tr>\n",
       "      <th>1</th>\n",
       "      <td>19.0</td>\n",
       "      <td>100086</td>\n",
       "      <td>1</td>\n",
       "      <td>68fe4acce80979ac9e4229ffa206a2cd</td>\n",
       "      <td>Internet Explorer</td>\n",
       "      <td>9</td>\n",
       "      <td>Windows</td>\n",
       "      <td>0</td>\n",
       "      <td>5/9/2014 3:12</td>\n",
       "      <td>5.0</td>\n",
       "      <td>...</td>\n",
       "      <td>NaN</td>\n",
       "      <td>NaN</td>\n",
       "      <td>10.0</td>\n",
       "      <td>172334</td>\n",
       "      <td>1.0</td>\n",
       "      <td>DD_PP</td>\n",
       "      <td>PP</td>\n",
       "      <td>PP</td>\n",
       "      <td>PP</td>\n",
       "      <td>PP</td>\n",
       "    </tr>\n",
       "  </tbody>\n",
       "</table>\n",
       "<p>2 rows × 201 columns</p>\n",
       "</div>"
      ],
      "text/plain": [
       "   ANS_Party  Record.ID  Attempt                        IP.Address  \\\n",
       "0       19.0     203846        1  30c55d031f11e6bdd84db7abb2e1241c   \n",
       "1       19.0     100086        1  68fe4acce80979ac9e4229ffa206a2cd   \n",
       "\n",
       "             Browser Version Platform  Mobile       Timestamp  X.Placement  \\\n",
       "0             iPhone       7   iPhone       1  5/20/2014 6:31          NaN   \n",
       "1  Internet Explorer       9  Windows       0   5/9/2014 3:12          5.0   \n",
       "\n",
       "         ...          Petition  Boycot MaxParty MaxParty_NA  MaxParty_Rep  \\\n",
       "0        ...               NaN     NaN      NaN      172334           NaN   \n",
       "1        ...               NaN     NaN     10.0      172334           1.0   \n",
       "\n",
       "   Preferido_Partido_Pref.F  Partido_Pref.Comparado.F  english  \\\n",
       "0                       NaN                       NaN       PP   \n",
       "1                     DD_PP                        PP       PP   \n",
       "\n",
       "   Partido_Maximo  Partido_Preferido  \n",
       "0             NaN                 PP  \n",
       "1              PP                 PP  \n",
       "\n",
       "[2 rows x 201 columns]"
      ]
     },
     "execution_count": 5,
     "metadata": {},
     "output_type": "execute_result"
    }
   ],
   "source": [
    "spain_data.head(2)"
   ]
  },
  {
   "cell_type": "code",
   "execution_count": 6,
   "metadata": {
    "collapsed": false
   },
   "outputs": [
    {
     "data": {
      "text/plain": [
       "Index([u'ANS_Party', u'Record.ID', u'Attempt', u'IP.Address', u'Browser',\n",
       "       u'Version', u'Platform', u'Mobile', u'Timestamp', u'X.Placement',\n",
       "       ...\n",
       "       u'Petition', u'Boycot', u'MaxParty', u'MaxParty_NA', u'MaxParty_Rep',\n",
       "       u'Preferido_Partido_Pref.F', u'Partido_Pref.Comparado.F', u'english',\n",
       "       u'Partido_Maximo', u'Partido_Preferido'],\n",
       "      dtype='object', length=201)"
      ]
     },
     "execution_count": 6,
     "metadata": {},
     "output_type": "execute_result"
    }
   ],
   "source": [
    "spain_data.columns"
   ]
  },
  {
   "cell_type": "code",
   "execution_count": 7,
   "metadata": {
    "collapsed": true
   },
   "outputs": [],
   "source": [
    "df = spain_data"
   ]
  },
  {
   "cell_type": "code",
   "execution_count": 10,
   "metadata": {
    "collapsed": false
   },
   "outputs": [
    {
     "name": "stdout",
     "output_type": "stream",
     "text": [
      "ANS_Party\n",
      "Record.ID\n",
      "Attempt\n",
      "IP.Address\n",
      "Browser\n",
      "Version\n",
      "Platform\n",
      "Mobile\n",
      "Timestamp\n",
      "X.Placement\n",
      "Y.Placement\n",
      "Z.Placement\n",
      "language\n",
      "http_referer\n",
      "sq1t\n",
      "sq2t\n",
      "sl2at\n",
      "sl2bt\n",
      "sl2ct\n",
      "dd1t\n",
      "optint\n",
      "SupQ_1\n",
      "SupQ_2\n",
      "SupQ_3\n",
      "SupQ_4\n",
      "SupQ_5\n",
      "SupQ_6\n",
      "SupQ_7\n",
      "SupQ_8\n",
      "SupQ_9\n",
      "SupQ_10\n",
      "SupQ_11\n",
      "SupQ_12\n",
      "SupQ_13\n",
      "SupQ_14\n",
      "SupQ_15\n",
      "SupQ_16\n",
      "SupQ_17\n",
      "SupQ_18\n",
      "SupQ_19\n",
      "SupQ_20\n",
      "SL1_PP\n",
      "SL1_PSOE\n",
      "SL1_IU\n",
      "SL1_UpyD\n",
      "SL1_PNV_CiU\n",
      "SL1_ERC\n",
      "SL1_BNG_Bildu\n",
      "SL1_Podemos\n",
      "SL2_PP\n",
      "SL2_PSOE\n",
      "SL2_IU\n",
      "SL2_UpyD\n",
      "SL2_PNV_CiU\n",
      "SL2_ERC\n",
      "SL2_BNG_Bildu\n",
      "SL2_Podemos\n",
      "SL3_PP\n",
      "SL3_PSOE\n",
      "SL3_IU\n",
      "SL3_UpyD\n",
      "SL3_PNV_CiU\n",
      "SL3_ERC\n",
      "SL3_BNG_Bildu\n",
      "SL3_Podemos\n",
      "DD_PP\n",
      "DD_PSOE\n",
      "DD_IU\n",
      "DD_UpyD\n",
      "DD_PNV_CiU\n",
      "DD_ERC\n",
      "DD_BNG_Bildu\n",
      "DD_Podemos\n",
      "DD_Equo\n",
      "DD_VOX\n",
      "Ans_1\n",
      "RTime_1\n",
      "Ans_2\n",
      "RTime_2\n",
      "Ans_3\n",
      "RTime_3\n",
      "Ans_4\n",
      "RTime_4\n",
      "Ans_5\n",
      "RTime_5\n",
      "Ans_6\n",
      "RTime_6\n",
      "Ans_7\n",
      "RTime_7\n",
      "Ans_8\n",
      "RTime_8\n",
      "Ans_9\n",
      "RTime_9\n",
      "Ans_10\n",
      "RTime_10\n",
      "Ans_11\n",
      "RTime_11\n",
      "Ans_12\n",
      "RTime_12\n",
      "Ans_13\n",
      "RTime_13\n",
      "Ans_14\n",
      "RTime_14\n",
      "Ans_15\n",
      "RTime_15\n",
      "Ans_16\n",
      "RTime_16\n",
      "Ans_17\n",
      "RTime_17\n",
      "Ans_18\n",
      "RTime_18\n",
      "Ans_19\n",
      "RTime_19\n",
      "Ans_20\n",
      "RTime_20\n",
      "Ans_21\n",
      "RTime_21\n",
      "Ans_22\n",
      "RTime_22\n",
      "Ans_23\n",
      "RTime_23\n",
      "Ans_24\n",
      "RTime_24\n",
      "Ans_25\n",
      "RTime_25\n",
      "Ans_26\n",
      "RTime_26\n",
      "Ans_27\n",
      "RTime_27\n",
      "Ans_28\n",
      "RTime_28\n",
      "Ans_29\n",
      "RTime_29\n",
      "Ans_30\n",
      "RTime_30\n",
      "Total.Time\n",
      "maxSuccessiveEqualAnswers\n",
      "less2\n",
      "less3\n",
      "noOpinions\n",
      "Country\n",
      "Q1\n",
      "Q2\n",
      "Q3\n",
      "Q4\n",
      "Close.Party\n",
      "European.Prefered.Party\n",
      "Reasons\n",
      "Last.Voted\n",
      "National.Preferred\n",
      "Interest.Politics\n",
      "TotInt_5\n",
      "TotInt_6\n",
      "TotInt_7\n",
      "TotInt_8\n",
      "TotInt_9\n",
      "TotInt_10\n",
      "PorcentajePartidos.5\n",
      "PorcentajePartidos.6\n",
      "PorcentajePartidos.7\n",
      "PorcentajePartidos.8\n",
      "PorcentajePartidos.9\n",
      "PorcentajePartidos.10\n",
      "VoteProb.5\n",
      "VoteProb.6\n",
      "VoteProb.7\n",
      "VoteProb.8\n",
      "VoteProb.9\n",
      "VoteProb.10\n",
      "Sub_DD_PP\n",
      "Sub_DD_PSOE\n",
      "Sub_DD_IU\n",
      "Sub_DD_UpyD\n",
      "Sub_DD_PNV_CiU\n",
      "Sub_DD_ERC\n",
      "Sub_DD_BNG_Bildu\n",
      "Sub_DD_Podemos\n",
      "Sub_DD_Equo\n",
      "Sub_DD_VOX\n",
      "Gender\n",
      "Foreigner\n",
      "Education\n",
      "Urban\n",
      "Age\n",
      "Joven\n",
      "Religion\n",
      "Employment\n",
      "Unemployment\n",
      "Demonstration\n",
      "Contacted\n",
      "ActiveRole\n",
      "Petition\n",
      "Boycot\n",
      "MaxParty\n",
      "MaxParty_NA\n",
      "MaxParty_Rep\n",
      "Preferido_Partido_Pref.F\n",
      "Partido_Pref.Comparado.F\n",
      "english\n",
      "Partido_Maximo\n",
      "Partido_Preferido\n"
     ]
    }
   ],
   "source": [
    "for el in df.columns:\n",
    "    print(el): "
   ]
  },
  {
   "cell_type": "code",
   "execution_count": 162,
   "metadata": {
    "collapsed": false
   },
   "outputs": [
    {
     "data": {
      "text/plain": [
       "<matplotlib.axes._subplots.AxesSubplot at 0x7f829872ead0>"
      ]
     },
     "execution_count": 162,
     "metadata": {},
     "output_type": "execute_result"
    },
    {
     "data": {
      "image/png": "[encoded data removed]",
      "text/plain": [
       "<matplotlib.figure.Figure at 0x7f82994c6f90>"
      ]
     },
     "metadata": {},
     "output_type": "display_data"
    }
   ],
   "source": [
    "df.loc[(df['language']=='castellano') & ((df['SupQ_7'] == 119) | (df['SupQ_7'] == 120)), 'SL3_PSOE'].hist(bins=22)"
   ]
  },
  {
   "cell_type": "code",
   "execution_count": 163,
   "metadata": {
    "collapsed": false
   },
   "outputs": [
    {
     "data": {
      "text/plain": [
       "<matplotlib.axes._subplots.AxesSubplot at 0x7f8298580190>"
      ]
     },
     "execution_count": 163,
     "metadata": {},
     "output_type": "execute_result"
    },
    {
     "data": {
      "image/png": "[encoded data removed]",
      "text/plain": [
       "<matplotlib.figure.Figure at 0x7f82986157d0>"
      ]
     },
     "metadata": {},
     "output_type": "display_data"
    }
   ],
   "source": [
    "df.loc[(df['language']=='catalan') & ((df['SupQ_7'] == 119) | (df['SupQ_7'] == 120)), 'SL3_PSOE'].hist(bins=22)"
   ]
  },
  {
   "cell_type": "code",
   "execution_count": 145,
   "metadata": {
    "collapsed": false
   },
   "outputs": [
    {
     "data": {
      "text/plain": [
       "0         False\n",
       "1         False\n",
       "2         False\n",
       "3         False\n",
       "4         False\n",
       "5         False\n",
       "6         False\n",
       "7         False\n",
       "8         False\n",
       "9         False\n",
       "10        False\n",
       "11        False\n",
       "12        False\n",
       "13        False\n",
       "14        False\n",
       "15        False\n",
       "16        False\n",
       "17        False\n",
       "18        False\n",
       "19        False\n",
       "20        False\n",
       "21        False\n",
       "22        False\n",
       "23        False\n",
       "24        False\n",
       "25        False\n",
       "26        False\n",
       "27        False\n",
       "28        False\n",
       "29        False\n",
       "          ...  \n",
       "281529    False\n",
       "281530    False\n",
       "281531    False\n",
       "281532     True\n",
       "281533    False\n",
       "281534    False\n",
       "281535    False\n",
       "281536    False\n",
       "281537    False\n",
       "281538    False\n",
       "281539    False\n",
       "281540    False\n",
       "281541    False\n",
       "281542    False\n",
       "281543    False\n",
       "281544    False\n",
       "281545    False\n",
       "281546    False\n",
       "281547    False\n",
       "281548    False\n",
       "281549    False\n",
       "281550    False\n",
       "281551    False\n",
       "281552    False\n",
       "281553    False\n",
       "281554    False\n",
       "281555    False\n",
       "281556    False\n",
       "281557    False\n",
       "281558    False\n",
       "Name: SupQ_7, dtype: bool"
      ]
     },
     "execution_count": 145,
     "metadata": {},
     "output_type": "execute_result"
    }
   ],
   "source": [
    "df['SupQ_7'] == 119"
   ]
  },
  {
   "cell_type": "code",
   "execution_count": 128,
   "metadata": {
    "collapsed": false
   },
   "outputs": [
    {
     "data": {
      "text/plain": [
       "<matplotlib.axes._subplots.AxesSubplot at 0x7f8299b8f2d0>"
      ]
     },
     "execution_count": 128,
     "metadata": {},
     "output_type": "execute_result"
    },
    {
     "data": {
      "image/png": "[encoded data removed]",
      "text/plain": [
       "<matplotlib.figure.Figure at 0x7f8299c31410>"
      ]
     },
     "metadata": {},
     "output_type": "display_data"
    }
   ],
   "source": [
    "df.loc[df['language']=='galego', 'SL3_BNG_Bildu'].hist(bins=22)"
   ]
  },
  {
   "cell_type": "markdown",
   "metadata": {},
   "source": [
    "**X.Placement, Y..., Z...**: Subjectivos (ecónomico: 0 izq, social: 0 izq, y europeo 0 anti)\n",
    "\n",
    "**Close.Party** Subjetive Party identification ???\n",
    "\n",
    "**European.Prefered.Party** Subjetive favourite party\n",
    "\n",
    "**MaxParty**: The one with highest probability to be voted after taking the test"
   ]
  },
  {
   "cell_type": "code",
   "execution_count": 25,
   "metadata": {
    "collapsed": false
   },
   "outputs": [
    {
     "data": {
      "text/plain": [
       "castellano    251661\n",
       "catalan        19303\n",
       "galego          7103\n",
       "euskera         2166\n",
       "english         1324\n",
       "gallego            2\n",
       "Name: language, dtype: int64"
      ]
     },
     "execution_count": 25,
     "metadata": {},
     "output_type": "execute_result"
    }
   ],
   "source": [
    "df['Timestamp']"
   ]
  },
  {
   "cell_type": "code",
   "execution_count": 27,
   "metadata": {
    "collapsed": false
   },
   "outputs": [
    {
     "data": {
      "text/plain": [
       "0    0\n",
       "Name: sq1t, dtype: int64"
      ]
     },
     "execution_count": 27,
     "metadata": {},
     "output_type": "execute_result"
    }
   ],
   "source": [
    "df.head(1)['sq1t']"
   ]
  },
  {
   "cell_type": "code",
   "execution_count": 80,
   "metadata": {
    "collapsed": false
   },
   "outputs": [
    {
     "data": {
      "text/plain": [
       "count    206353.000000\n",
       "mean         10.549723\n",
       "std           6.220726\n",
       "min           1.000000\n",
       "25%           5.000000\n",
       "50%           9.000000\n",
       "75%          17.000000\n",
       "max          18.000000\n",
       "Name: Close.Party, dtype: float64"
      ]
     },
     "execution_count": 80,
     "metadata": {},
     "output_type": "execute_result"
    }
   ],
   "source": [
    "df.describe().loc[:,'Close.Party']"
   ]
  },
  {
   "cell_type": "code",
   "execution_count": 135,
   "metadata": {
    "collapsed": false
   },
   "outputs": [
    {
     "data": {
      "text/plain": [
       "16.0    4244\n",
       "17.0    2375\n",
       "8.0     2045\n",
       "15.0    1671\n",
       "19.0    1226\n",
       "10.0    1174\n",
       "6.0      745\n",
       "18.0     631\n",
       "2.0      388\n",
       "13.0     214\n",
       "14.0     176\n",
       "4.0       53\n",
       "7.0       49\n",
       "3.0       39\n",
       "1.0       38\n",
       "5.0       19\n",
       "11.0       8\n",
       "9.0        7\n",
       "12.0       5\n",
       "Name: National.Preferred, dtype: int64"
      ]
     },
     "execution_count": 135,
     "metadata": {},
     "output_type": "execute_result"
    }
   ],
   "source": [
    "df.loc[df['language']=='catalan','National.Preferred'].value_counts()"
   ]
  },
  {
   "cell_type": "code",
   "execution_count": 136,
   "metadata": {
    "collapsed": false
   },
   "outputs": [
    {
     "data": {
      "text/plain": [
       "123.0    38558\n",
       "120.0    24108\n",
       "111.0    22623\n",
       "119.0    21598\n",
       "122.0    12472\n",
       "117.0    10398\n",
       "126.0     7916\n",
       "109.0     7610\n",
       "115.0     6825\n",
       "118.0     6543\n",
       "112.0     6482\n",
       "113.0     6211\n",
       "114.0     5024\n",
       "124.0     4849\n",
       "121.0     3012\n",
       "116.0     2478\n",
       "125.0     2186\n",
       "127.0     1235\n",
       "130.0     1029\n",
       "110.0      621\n",
       "129.0      137\n",
       "128.0      130\n",
       "Name: SupQ_7, dtype: int64"
      ]
     },
     "execution_count": 136,
     "metadata": {},
     "output_type": "execute_result"
    }
   ],
   "source": [
    "df['SupQ_7'].value_counts()"
   ]
  },
  {
   "cell_type": "code",
   "execution_count": 99,
   "metadata": {
    "collapsed": false
   },
   "outputs": [
    {
     "data": {
      "text/plain": [
       "69405"
      ]
     },
     "execution_count": 99,
     "metadata": {},
     "output_type": "execute_result"
    }
   ],
   "source": [
    "(df['European.Prefered.Party'] == df['National.Preferred']).sum()"
   ]
  },
  {
   "cell_type": "markdown",
   "metadata": {},
   "source": [
    "-----------------------\n",
    "\n",
    "ERC visto desde catalanoparlantes y españoles"
   ]
  },
  {
   "cell_type": "code",
   "execution_count": null,
   "metadata": {
    "collapsed": true
   },
   "outputs": [],
   "source": [
    "df.loc[df['language']=='catalan', 'SL2_ERC'].hist(bins=22)\n",
    "df.loc[df['language']=='castellano', 'SL2_ERC'].hist(bins=22)\n",
    "\n",
    "df.loc[df['language']=='catalan', 'SL3_ERC'].hist(bins=22)\n",
    "df.loc[df['language']=='castellano', 'SL3_ERC'].hist(bins=22)\n",
    "\n",
    "df.loc[df['language']=='euskera', 'SL3_PNV_CiU'].hist(bins=22)\n",
    "df.loc[df['language']=='catalan', 'SL3_PNV_CiU'].hist(bins=22)\n",
    "df.loc[df['language']=='castellano', 'SL3_PNV_CiU'].hist(bins=22)"
   ]
  },
  {
   "cell_type": "markdown",
   "metadata": {},
   "source": [
    "Solo los catalanes-valencianos"
   ]
  },
  {
   "cell_type": "code",
   "execution_count": null,
   "metadata": {
    "collapsed": true
   },
   "outputs": [],
   "source": [
    "df.loc[(df['language']=='castellano') & ((df['SupQ_7'] == 119) | (df['SupQ_7'] == 120)), 'SL3_ERC'].hist(bins=22)\n",
    "df.loc[(df['language']=='catalan') & ((df['SupQ_7'] == 119) | (df['SupQ_7'] == 120)), 'SL3_ERC'].hist(bins=22)"
   ]
  }
 ],
 "metadata": {
  "kernelspec": {
   "display_name": "Python 2",
   "language": "python",
   "name": "python2"
  },
  "language_info": {
   "codemirror_mode": {
    "name": "ipython",
    "version": 2
   },
   "file_extension": ".py",
   "mimetype": "text/x-python",
   "name": "python",
   "nbconvert_exporter": "python",
   "pygments_lexer": "ipython2",
   "version": "2.7.13"
  }
 },
 "nbformat": 4,
 "nbformat_minor": 2
}
