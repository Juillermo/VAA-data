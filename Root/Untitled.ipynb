{
 "cells": [
  {
   "cell_type": "code",
   "execution_count": 1,
   "metadata": {
    "collapsed": true
   },
   "outputs": [],
   "source": [
    "%matplotlib inline\n",
    "import numpy as np\n",
    "import pandas as pd\n",
    "import matplotlib.pyplot as plt\n",
    "import sckit-learn as sk"
   ]
  },
  {
   "cell_type": "code",
   "execution_count": 2,
   "metadata": {
    "collapsed": true
   },
   "outputs": [],
   "source": [
    "df = pd.read_csv('Predata/GUILLE/Spain_CURADO.csv', low_memory=False)"
   ]
  },
  {
   "cell_type": "code",
   "execution_count": 4,
   "metadata": {
    "collapsed": false
   },
   "outputs": [
    {
     "data": {
      "text/plain": [
       "['Ans_1',\n",
       " 'Ans_2',\n",
       " 'Ans_3',\n",
       " 'Ans_4',\n",
       " 'Ans_5',\n",
       " 'Ans_6',\n",
       " 'Ans_7',\n",
       " 'Ans_8',\n",
       " 'Ans_9',\n",
       " 'Ans_10',\n",
       " 'Ans_11',\n",
       " 'Ans_12',\n",
       " 'Ans_13',\n",
       " 'Ans_14',\n",
       " 'Ans_15',\n",
       " 'Ans_16',\n",
       " 'Ans_17',\n",
       " 'Ans_18',\n",
       " 'Ans_19',\n",
       " 'Ans_20',\n",
       " 'Ans_21',\n",
       " 'Ans_22',\n",
       " 'Ans_23',\n",
       " 'Ans_24',\n",
       " 'Ans_25',\n",
       " 'Ans_26',\n",
       " 'Ans_27',\n",
       " 'Ans_28',\n",
       " 'Ans_29',\n",
       " 'Ans_30']"
      ]
     },
     "execution_count": 4,
     "metadata": {},
     "output_type": "execute_result"
    }
   ],
   "source": [
    "answer_cols = [\"Ans_\"+str(i+1) for i in range(30)]"
   ]
  }
 ],
 "metadata": {
  "kernelspec": {
   "display_name": "Python 2",
   "language": "python",
   "name": "python2"
  },
  "language_info": {
   "codemirror_mode": {
    "name": "ipython",
    "version": 2
   },
   "file_extension": ".py",
   "mimetype": "text/x-python",
   "name": "python",
   "nbconvert_exporter": "python",
   "pygments_lexer": "ipython2",
   "version": "2.7.13"
  }
 },
 "nbformat": 4,
 "nbformat_minor": 2
}
